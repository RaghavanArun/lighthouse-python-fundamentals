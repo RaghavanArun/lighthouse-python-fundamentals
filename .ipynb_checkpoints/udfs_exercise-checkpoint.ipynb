{
 "cells": [
  {
   "cell_type": "markdown",
   "metadata": {},
   "source": [
    "# UDFs in Python"
   ]
  },
  {
   "cell_type": "markdown",
   "metadata": {},
   "source": [
    "#### Greeter\n",
    "Write a function that takes in a person's name, and prints out a greeting.\n",
    "The greeting must be at least three lines, and the person's name must be in each line.\n",
    "Use your function to greet at least **three** different people.\n",
    "\n",
    "**Bonus:** Store your three people in a list, and call your function from a for loop.\n",
    "\n",
    "\n",
    "**Example Output:**\n",
    "\n",
    "Hello John!<br>\n",
    "Hello John!<br>\n",
    "Hello John!<br>"
   ]
  },
  {
   "cell_type": "code",
   "execution_count": 9,
   "metadata": {},
   "outputs": [
    {
     "name": "stdout",
     "output_type": "stream",
     "text": [
      "Hello John!\n",
      "Hello Fred!\n",
      "Hello Tonya!\n"
     ]
    }
   ],
   "source": [
    "x = 'John'\n",
    "y = 'Fred'\n",
    "z = 'Tonya'\n",
    "\n",
    "def main(x, y, z):\n",
    "    print('Hello', (x + \"!\"))\n",
    "    print('Hello', (y + \"!\")) \n",
    "    print('Hello', (z + \"!\"))\n",
    "\n",
    "main(x ,y, z)"
   ]
  },
  {
   "cell_type": "code",
   "execution_count": null,
   "metadata": {},
   "outputs": [],
   "source": []
  },
  {
   "cell_type": "markdown",
   "metadata": {},
   "source": [
    "#### Full Names\n",
    "Write a function that takes in a first name and a last name, and prints out a nicely formatted full name, in a sentence. Your sentence could be as simple as, \"Hello, full_name.\""
   ]
  },
  {
   "cell_type": "code",
   "execution_count": 11,
   "metadata": {},
   "outputs": [
    {
     "name": "stdout",
     "output_type": "stream",
     "text": [
      "Hello, John Smith.\n"
     ]
    }
   ],
   "source": [
    "firstname= 'John'\n",
    "lastname = 'Smith'\n",
    "\n",
    "def main2(firstname, lastname):\n",
    "    print(\"Hello,\", firstname, (lastname+\".\"))\n",
    "\n",
    "main2(firstname, lastname)"
   ]
  },
  {
   "cell_type": "code",
   "execution_count": null,
   "metadata": {},
   "outputs": [],
   "source": []
  },
  {
   "cell_type": "markdown",
   "metadata": {},
   "source": [
    "#### Addition Calculator\n",
    "Write a function that takes in two numbers, and adds them together. Make your function print out a sentence showing the two numbers, and the result.\n",
    "\n",
    "**Example Output:**\n",
    "\n",
    "The sum of 2 and 3 is 5."
   ]
  },
  {
   "cell_type": "code",
   "execution_count": 13,
   "metadata": {},
   "outputs": [
    {
     "name": "stdout",
     "output_type": "stream",
     "text": [
      "The sum of 2 and 4 is 6.\n"
     ]
    }
   ],
   "source": [
    "def main3(x, y):\n",
    "    n = x + y\n",
    "    print(\"The sum of\", x, \"and\", y, \"is\", (str(n) + \".\"))\n",
    "\n",
    "x = 2\n",
    "y = 4\n",
    "main3(x, y)"
   ]
  },
  {
   "cell_type": "code",
   "execution_count": null,
   "metadata": {},
   "outputs": [],
   "source": []
  },
  {
   "cell_type": "markdown",
   "metadata": {},
   "source": [
    "#### Return Calculator\n",
    "Modify Addition Calculator so that your function **returns** the sum of the two numbers. The printing should happen outside of the function."
   ]
  },
  {
   "cell_type": "code",
   "execution_count": 43,
   "metadata": {},
   "outputs": [
    {
     "data": {
      "text/plain": [
       "11"
      ]
     },
     "execution_count": 43,
     "metadata": {},
     "output_type": "execute_result"
    }
   ],
   "source": [
    "def main4(x, y):\n",
    "    j = x + y\n",
    "    return j\n",
    "\n",
    "x = 4\n",
    "y = 7\n",
    "main4 (x,y)"
   ]
  },
  {
   "cell_type": "code",
   "execution_count": null,
   "metadata": {},
   "outputs": [],
   "source": []
  },
  {
   "cell_type": "markdown",
   "metadata": {},
   "source": [
    "#### Sum everything in the list\n",
    "\n",
    "Write a Python function to sum all the numbers in a list"
   ]
  },
  {
   "cell_type": "code",
   "execution_count": 23,
   "metadata": {},
   "outputs": [
    {
     "name": "stdout",
     "output_type": "stream",
     "text": [
      "15\n"
     ]
    }
   ],
   "source": [
    "def main5(x):\n",
    "    n = 0\n",
    "    for i in x:\n",
    "        n = n + i\n",
    "    print (n)\n",
    "\n",
    "x = [ 1 , 2, 3, 4, 5 ]\n",
    "main5(x)"
   ]
  },
  {
   "cell_type": "code",
   "execution_count": null,
   "metadata": {},
   "outputs": [],
   "source": []
  },
  {
   "cell_type": "markdown",
   "metadata": {},
   "source": [
    "#### Reverse string\n",
    "\n",
    "Write a Python program to reverse a string.\n",
    "\n",
    "Sample String : \"1234abcd\" <br>\n",
    "Expected Output : \"dcba4321\""
   ]
  },
  {
   "cell_type": "code",
   "execution_count": 36,
   "metadata": {},
   "outputs": [
    {
     "name": "stdout",
     "output_type": "stream",
     "text": [
      "54321dcba\n"
     ]
    }
   ],
   "source": [
    "def main6(x):\n",
    "    x = x[::-1]\n",
    "    print(x)\n",
    "\n",
    "x = 'abcd12345'\n",
    "main6(x)"
   ]
  },
  {
   "cell_type": "code",
   "execution_count": null,
   "metadata": {},
   "outputs": [],
   "source": []
  },
  {
   "cell_type": "markdown",
   "metadata": {},
   "source": [
    "#### Range check\n",
    "\n",
    "Write a Python function to check whether a number is in a given range. \n",
    "\n",
    "Inputs: number, tuple of min and max<br>\n",
    "Outputs: True/False"
   ]
  },
  {
   "cell_type": "code",
   "execution_count": 41,
   "metadata": {},
   "outputs": [
    {
     "name": "stdout",
     "output_type": "stream",
     "text": [
      "False\n",
      "True\n",
      "False\n"
     ]
    }
   ],
   "source": [
    "def main7(x):\n",
    "    if x in range (1,5):\n",
    "        return True\n",
    "    else: \n",
    "        return False\n",
    "    \n",
    "x = 13\n",
    "print(main7(x))\n",
    "x = 3\n",
    "print(main7(x))\n",
    "x = 5\n",
    "print(main7(x))"
   ]
  },
  {
   "cell_type": "code",
   "execution_count": null,
   "metadata": {},
   "outputs": [],
   "source": []
  },
  {
   "cell_type": "code",
   "execution_count": null,
   "metadata": {},
   "outputs": [],
   "source": []
  }
 ],
 "metadata": {
  "kernelspec": {
   "display_name": "Python 3 (ipykernel)",
   "language": "python",
   "name": "python3"
  },
  "language_info": {
   "codemirror_mode": {
    "name": "ipython",
    "version": 3
   },
   "file_extension": ".py",
   "mimetype": "text/x-python",
   "name": "python",
   "nbconvert_exporter": "python",
   "pygments_lexer": "ipython3",
   "version": "3.9.7"
  }
 },
 "nbformat": 4,
 "nbformat_minor": 4
}
