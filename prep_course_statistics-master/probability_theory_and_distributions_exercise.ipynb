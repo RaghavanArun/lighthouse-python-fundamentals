{
 "cells": [
  {
   "cell_type": "code",
   "execution_count": 130,
   "metadata": {
    "ExecuteTime": {
     "end_time": "2020-02-05T17:54:42.062131Z",
     "start_time": "2020-02-05T17:54:41.626763Z"
    }
   },
   "outputs": [],
   "source": [
    "# import numpy\n",
    "import numpy as np\n",
    "\n",
    "# import matplotlib.pyplot\n",
    "import matplotlib.pyplot as plt\n",
    "\n",
    "# import Counter\n",
    "from collections import Counter\n",
    "\n",
    "# use style 'fivethirtyeight' (optional)\n",
    "plt.style.use('fivethirtyeight')"
   ]
  },
  {
   "cell_type": "markdown",
   "metadata": {
    "ExecuteTime": {
     "end_time": "2020-02-05T17:54:42.113199Z",
     "start_time": "2020-02-05T17:54:42.101587Z"
    },
    "tags": []
   },
   "source": [
    "#### Create function `perform_bernoulli_trial` with parameters n and p\n",
    "\n",
    "PARAMS:\n",
    "- n (int) - number of trials\n",
    "- p (float) - probability of success\n",
    "\n",
    "RETURNS:\n",
    "- n_success (int) - number of successes\n",
    "\n"
   ]
  },
  {
   "cell_type": "code",
   "execution_count": 35,
   "metadata": {},
   "outputs": [],
   "source": [
    "def perform_bernoulli_trial (n, p):\n",
    "    n_success = np.random.binomial(n, p)\n",
    "    return n_success\n"
   ]
  },
  {
   "cell_type": "code",
   "execution_count": null,
   "metadata": {},
   "outputs": [],
   "source": []
  },
  {
   "cell_type": "markdown",
   "metadata": {
    "ExecuteTime": {
     "end_time": "2020-02-05T17:54:42.610756Z",
     "start_time": "2020-02-05T17:54:42.602316Z"
    }
   },
   "source": [
    "#### Use function `perform_bernoulli_trial` with inputs n = 100, p = 0.5"
   ]
  },
  {
   "cell_type": "code",
   "execution_count": 37,
   "metadata": {},
   "outputs": [
    {
     "data": {
      "text/plain": [
       "50"
      ]
     },
     "execution_count": 37,
     "metadata": {},
     "output_type": "execute_result"
    }
   ],
   "source": [
    "perform_bernoulli_trial(100, 0.5) \n"
   ]
  },
  {
   "cell_type": "code",
   "execution_count": null,
   "metadata": {},
   "outputs": [],
   "source": []
  },
  {
   "cell_type": "markdown",
   "metadata": {
    "ExecuteTime": {
     "end_time": "2020-02-05T17:54:43.020097Z",
     "start_time": "2020-02-05T17:54:42.962800Z"
    },
    "tags": []
   },
   "source": [
    "#### Call function _perform_bernoulli_trial_ 1000-times with same parameters as before and store the result in `successes_list`"
   ]
  },
  {
   "cell_type": "code",
   "execution_count": 89,
   "metadata": {},
   "outputs": [
    {
     "name": "stdout",
     "output_type": "stream",
     "text": [
      "[48, 49, 46, 61, 55, 42, 52, 48, 56, 45, 48, 51, 56, 53, 48, 53, 57, 51, 46, 57, 43, 49, 42, 55, 49, 47, 44, 58, 49, 43, 45, 33, 42, 46, 47, 54, 53, 51, 51, 59, 41, 52, 47, 47, 45, 52, 57, 58, 44, 56, 61, 55, 48, 54, 50, 47, 47, 52, 47, 51, 42, 46, 48, 48, 40, 58, 49, 55, 46, 54, 56, 50, 54, 48, 58, 52, 45, 49, 46, 50, 57, 46, 51, 52, 43, 63, 56, 53, 54, 52, 50, 53, 49, 52, 47, 49, 56, 45, 51, 43, 53, 44, 48, 52, 52, 39, 60, 51, 53, 56, 55, 51, 46, 60, 45, 48, 48, 53, 48, 45, 42, 52, 50, 52, 48, 44, 53, 38, 49, 56, 51, 47, 52, 47, 50, 44, 45, 48, 50, 46, 55, 47, 58, 41, 49, 39, 45, 47, 46, 47, 50, 41, 59, 49, 56, 53, 45, 50, 45, 40, 48, 45, 49, 45, 47, 59, 56, 57, 53, 51, 38, 46, 60, 45, 56, 53, 49, 48, 53, 38, 57, 48, 58, 48, 51, 54, 51, 51, 37, 59, 45, 47, 45, 49, 48, 54, 58, 52, 49, 50, 52, 49, 57, 56, 57, 51, 45, 52, 55, 54, 50, 47, 54, 50, 39, 60, 49, 57, 53, 51, 50, 45, 46, 48, 48, 44, 50, 51, 48, 50, 51, 38, 48, 53, 56, 53, 49, 39, 48, 43, 47, 45, 58, 46, 54, 55, 49, 47, 58, 54, 45, 42, 47, 52, 52, 53, 55, 48, 47, 50, 47, 54, 46, 52, 50, 43, 51, 49, 53, 57, 48, 45, 54, 54, 37, 48, 44, 41, 50, 46, 41, 42, 38, 60, 51, 48, 53, 43, 49, 51, 47, 56, 50, 55, 56, 41, 53, 44, 54, 56, 42, 47, 45, 34, 51, 49, 57, 49, 56, 47, 51, 52, 55, 47, 50, 53, 49, 54, 49, 42, 54, 62, 44, 55, 58, 45, 55, 47, 57, 55, 52, 43, 50, 38, 55, 45, 49, 58, 45, 52, 51, 54, 62, 38, 49, 47, 55, 51, 53, 52, 49, 48, 54, 52, 49, 45, 53, 47, 43, 44, 53, 42, 52, 47, 40, 54, 52, 46, 51, 53, 56, 50, 57, 40, 50, 53, 56, 51, 53, 50, 56, 44, 43, 48, 49, 49, 42, 50, 55, 56, 51, 56, 48, 38, 62, 45, 53, 44, 52, 52, 50, 55, 56, 49, 53, 48, 49, 51, 48, 53, 48, 51, 58, 50, 46, 52, 47, 41, 54, 52, 44, 50, 47, 39, 52, 58, 51, 53, 48, 41, 54, 43, 48, 47, 47, 47, 57, 49, 42, 47, 58, 48, 53, 44, 51, 54, 44, 38, 52, 56, 53, 49, 48, 52, 41, 47, 41, 44, 40, 51, 52, 50, 53, 54, 48, 55, 50, 54, 47, 47, 58, 53, 58, 40, 47, 52, 45, 57, 50, 51, 48, 51, 49, 52, 51, 52, 49, 49, 49, 48, 62, 48, 47, 52, 56, 53, 42, 52, 44, 50, 49, 51, 50, 47, 39, 49, 48, 45, 49, 48, 41, 39, 52, 59, 55, 48, 45, 46, 51, 63, 54, 54, 48, 52, 49, 50, 44, 50, 53, 57, 45, 53, 60, 43, 51, 54, 50, 52, 47, 62, 58, 52, 51, 52, 53, 48, 49, 51, 49, 51, 43, 57, 48, 55, 46, 52, 54, 52, 48, 45, 57, 47, 49, 52, 54, 53, 57, 55, 48, 46, 56, 53, 50, 57, 51, 51, 54, 50, 37, 47, 55, 50, 50, 57, 52, 53, 55, 57, 50, 46, 56, 44, 47, 54, 47, 50, 49, 48, 57, 43, 56, 46, 40, 49, 47, 53, 56, 46, 51, 40, 43, 45, 47, 55, 48, 55, 39, 58, 49, 47, 57, 53, 48, 51, 54, 50, 39, 57, 54, 48, 51, 57, 49, 55, 60, 52, 53, 48, 48, 51, 52, 56, 57, 56, 45, 56, 44, 50, 54, 49, 51, 50, 44, 40, 53, 48, 56, 63, 46, 49, 48, 43, 46, 49, 46, 45, 40, 60, 45, 57, 53, 50, 45, 49, 46, 52, 50, 52, 48, 56, 43, 48, 55, 48, 51, 52, 45, 53, 50, 47, 54, 56, 47, 44, 44, 51, 50, 53, 53, 51, 57, 60, 50, 58, 53, 52, 50, 57, 55, 54, 58, 60, 48, 58, 46, 59, 49, 55, 46, 49, 45, 44, 59, 45, 58, 48, 50, 48, 46, 51, 45, 49, 50, 49, 55, 39, 56, 53, 49, 44, 52, 50, 44, 49, 52, 57, 38, 48, 40, 61, 58, 50, 48, 50, 57, 51, 48, 52, 56, 53, 51, 39, 43, 44, 55, 49, 64, 52, 51, 47, 50, 50, 50, 47, 41, 50, 46, 51, 44, 38, 51, 44, 50, 48, 49, 55, 47, 42, 46, 44, 49, 45, 45, 46, 58, 43, 50, 47, 56, 50, 64, 54, 51, 50, 53, 48, 53, 50, 49, 50, 50, 46, 52, 52, 61, 46, 43, 53, 60, 44, 48, 46, 51, 47, 44, 50, 51, 53, 48, 45, 48, 52, 55, 53, 57, 54, 53, 52, 54, 62, 49, 53, 52, 44, 59, 49, 48, 44, 48, 45, 48, 47, 49, 50, 49, 49, 37, 58, 53, 50, 46, 36, 46, 46, 48, 38, 44, 39, 52, 52, 48, 38, 47, 49, 49, 52, 53, 58, 43, 60, 52, 51, 47, 45, 45, 41, 56, 43, 52, 52, 50, 47, 49, 54, 51, 50, 47, 43, 47, 55, 51, 56, 56, 46, 56, 54, 55, 48, 49, 51, 45, 50, 51, 56, 59, 53, 42, 50, 53, 53, 46, 49, 52, 39, 39, 59, 54, 48, 50, 50, 46, 51, 43, 53, 42, 51, 51, 50, 43, 62, 55, 49, 54, 47, 41, 59, 53, 50, 52, 52, 51, 46, 47, 43, 53, 51, 45, 57, 57, 54, 52, 55, 56, 54, 49, 48, 45, 54, 42, 54, 52, 55, 47, 57, 49, 45, 49, 63, 46, 51, 54, 56, 56, 48, 53, 53, 47, 52, 49, 45, 49, 58, 42, 49, 50, 46, 42, 45, 49, 52]\n"
     ]
    }
   ],
   "source": [
    "successes_list = []\n",
    "n_success = np.random.binomial(n, p)\n",
    "\n",
    "for i in range (0, 1000, 1):\n",
    "    n = 100\n",
    "    p = 0.5\n",
    "    n_success = np.random.binomial(n, p)\n",
    "    perform_bernoulli_trial(n, p)\n",
    "    successes_list.append(n_success)\n",
    "    \n",
    "print(successes_list)\n",
    "\n"
   ]
  },
  {
   "cell_type": "code",
   "execution_count": null,
   "metadata": {},
   "outputs": [],
   "source": []
  },
  {
   "cell_type": "markdown",
   "metadata": {
    "ExecuteTime": {
     "end_time": "2020-02-05T17:54:43.296477Z",
     "start_time": "2020-02-05T17:54:43.289959Z"
    }
   },
   "source": [
    "#### Count occurence of each number from `successes_list` using Counter and store the result in `count_occurence`\n",
    "\n",
    "You can find for more info about Counter [**here**](https://docs.python.org/2/library/collections.html#collections.Counter)."
   ]
  },
  {
   "cell_type": "code",
   "execution_count": 122,
   "metadata": {},
   "outputs": [
    {
     "name": "stdout",
     "output_type": "stream",
     "text": [
      "Counter({49: 82, 48: 81, 50: 79, 52: 76, 51: 72, 53: 70, 47: 66, 45: 53, 54: 49, 56: 46, 46: 45, 55: 39, 57: 36, 44: 35, 58: 27, 43: 26, 42: 19, 41: 14, 39: 14, 38: 13, 60: 12, 59: 11, 40: 11, 62: 7, 61: 4, 63: 4, 37: 4, 64: 2, 33: 1, 34: 1, 36: 1})\n"
     ]
    },
    {
     "data": {
      "text/plain": [
       "1000"
      ]
     },
     "execution_count": 122,
     "metadata": {},
     "output_type": "execute_result"
    }
   ],
   "source": [
    "cnt = Counter ()\n",
    "for number in successes_list:\n",
    "    cnt[number] += 1\n",
    "count_occurence = cnt\n",
    "print(count_occurence)\n",
    "sum(cnt.values())  "
   ]
  },
  {
   "cell_type": "code",
   "execution_count": null,
   "metadata": {},
   "outputs": [],
   "source": []
  },
  {
   "cell_type": "markdown",
   "metadata": {
    "ExecuteTime": {
     "end_time": "2020-02-05T17:54:43.571225Z",
     "start_time": "2020-02-05T17:54:43.568147Z"
    },
    "tags": []
   },
   "source": [
    "#### Count the probability for each number from `count_occurence` and store the result in `probas`\n"
   ]
  },
  {
   "cell_type": "code",
   "execution_count": 126,
   "metadata": {},
   "outputs": [
    {
     "name": "stdout",
     "output_type": "stream",
     "text": [
      "[0.081, 0.082, 0.045, 0.004, 0.039, 0.019, 0.076, 0.046, 0.053, 0.072, 0.07, 0.036, 0.026, 0.066, 0.035, 0.027, 0.001, 0.049, 0.011, 0.014, 0.079, 0.011, 0.004, 0.014, 0.012, 0.013, 0.004, 0.001, 0.007, 0.002, 0.001]\n"
     ]
    }
   ],
   "source": [
    "probas = []\n",
    "for key in count_occurence:\n",
    "    l = 0\n",
    "    l = successes_list.count(key)\n",
    "    l = l/1000\n",
    "    probas.append(l)\n",
    "\n",
    "print(probas)\n"
   ]
  },
  {
   "cell_type": "code",
   "execution_count": null,
   "metadata": {},
   "outputs": [],
   "source": []
  },
  {
   "cell_type": "markdown",
   "metadata": {},
   "source": [
    "Below you have some information about how to do plots in Python. We will be covering all of this during the bootcamp. But you can find these basics here so we can visualize the distributions."
   ]
  },
  {
   "cell_type": "code",
   "execution_count": 127,
   "metadata": {
    "ExecuteTime": {
     "end_time": "2020-02-05T17:54:44.056628Z",
     "start_time": "2020-02-05T17:54:43.850076Z"
    }
   },
   "outputs": [
    {
     "data": {
      "image/png": "[encoded data removed]",
      "text/plain": [
       "<Figure size 432x288 with 1 Axes>"
      ]
     },
     "metadata": {},
     "output_type": "display_data"
    }
   ],
   "source": [
    "# plot distribution (PMF) of 'succes_list'\n",
    "plt.scatter(x=count_occurence.keys(), y=probas)\n",
    "plt.xlabel('number of succeess out of 100')\n",
    "plt.ylabel('probability')\n",
    "# Show the plot\n",
    "plt.show()"
   ]
  },
  {
   "cell_type": "markdown",
   "metadata": {
    "ExecuteTime": {
     "end_time": "2020-02-05T17:54:44.112264Z",
     "start_time": "2020-02-05T17:54:44.096570Z"
    }
   },
   "source": [
    "#### Generate 100000 numbers from uniform distribution with parameters a = 1, b = 6\n"
   ]
  },
  {
   "cell_type": "code",
   "execution_count": 136,
   "metadata": {},
   "outputs": [],
   "source": [
    "uniform = np.random.uniform( 1, 6, size =100000) "
   ]
  },
  {
   "cell_type": "code",
   "execution_count": null,
   "metadata": {},
   "outputs": [],
   "source": []
  },
  {
   "cell_type": "code",
   "execution_count": 137,
   "metadata": {
    "ExecuteTime": {
     "end_time": "2020-02-05T17:54:44.515039Z",
     "start_time": "2020-02-05T17:54:44.330746Z"
    },
    "tags": []
   },
   "outputs": [
    {
     "data": {
      "image/png": "[encoded data removed]",
      "text/plain": [
       "<Figure size 432x288 with 1 Axes>"
      ]
     },
     "metadata": {},
     "output_type": "display_data"
    }
   ],
   "source": [
    "# plot histogram of uniform distribution with paramsdensity=True, bins=6\n",
    "plt.hist(uniform, density=True, bins=6)\n",
    "plt.ylabel('density')\n",
    "plt.xlabel('value')\n",
    "plt.show()"
   ]
  },
  {
   "cell_type": "markdown",
   "metadata": {
    "ExecuteTime": {
     "end_time": "2020-02-05T17:54:44.583762Z",
     "start_time": "2020-02-05T17:54:44.555162Z"
    }
   },
   "source": [
    "#### Check the mean of uniform data (using NumPy)"
   ]
  },
  {
   "cell_type": "code",
   "execution_count": 139,
   "metadata": {},
   "outputs": [
    {
     "data": {
      "text/plain": [
       "3.503280567423832"
      ]
     },
     "execution_count": 139,
     "metadata": {},
     "output_type": "execute_result"
    }
   ],
   "source": [
    "np.average(uniform)"
   ]
  },
  {
   "cell_type": "code",
   "execution_count": null,
   "metadata": {},
   "outputs": [],
   "source": []
  },
  {
   "cell_type": "markdown",
   "metadata": {
    "ExecuteTime": {
     "end_time": "2020-02-05T17:54:44.758510Z",
     "start_time": "2020-02-05T17:54:44.752087Z"
    }
   },
   "source": [
    "#### Generate 100000 numbers from exponential distribution with parameter beta = 0.5\n",
    "\n",
    "The exponential distribution is sometimes parametrized in terms of the scale parameter **β = 1/λ**. We were reading about the **λ** in the previous reading."
   ]
  },
  {
   "cell_type": "code",
   "execution_count": 141,
   "metadata": {},
   "outputs": [],
   "source": [
    "exponential = np.random.exponential(0.5, 100000) "
   ]
  },
  {
   "cell_type": "code",
   "execution_count": null,
   "metadata": {},
   "outputs": [],
   "source": []
  },
  {
   "cell_type": "markdown",
   "metadata": {
    "ExecuteTime": {
     "end_time": "2020-02-05T17:54:45.134091Z",
     "start_time": "2020-02-05T17:54:44.956351Z"
    }
   },
   "source": [
    "#### Plot histogram of exponential distribution with params `density=True`, `bins=100`\n"
   ]
  },
  {
   "cell_type": "code",
   "execution_count": 142,
   "metadata": {},
   "outputs": [
    {
     "data": {
      "image/png": "[encoded data removed]",
      "text/plain": [
       "<Figure size 432x288 with 1 Axes>"
      ]
     },
     "metadata": {},
     "output_type": "display_data"
    }
   ],
   "source": [
    "plt.hist(exponential, density=True, bins=100)\n",
    "plt.ylabel('density')\n",
    "plt.xlabel('value')\n",
    "plt.show()"
   ]
  },
  {
   "cell_type": "code",
   "execution_count": null,
   "metadata": {},
   "outputs": [],
   "source": []
  },
  {
   "cell_type": "markdown",
   "metadata": {
    "ExecuteTime": {
     "end_time": "2020-02-05T17:54:45.187080Z",
     "start_time": "2020-02-05T17:54:45.171406Z"
    }
   },
   "source": [
    "#### Check the mean of exponential data"
   ]
  },
  {
   "cell_type": "code",
   "execution_count": 144,
   "metadata": {},
   "outputs": [
    {
     "data": {
      "text/plain": [
       "0.5010744333298082"
      ]
     },
     "execution_count": 144,
     "metadata": {},
     "output_type": "execute_result"
    }
   ],
   "source": [
    "np.average(exponential)"
   ]
  },
  {
   "cell_type": "code",
   "execution_count": null,
   "metadata": {},
   "outputs": [],
   "source": []
  }
 ],
 "metadata": {
  "kernelspec": {
   "display_name": "Python 3 (ipykernel)",
   "language": "python",
   "name": "python3"
  },
  "language_info": {
   "codemirror_mode": {
    "name": "ipython",
    "version": 3
   },
   "file_extension": ".py",
   "mimetype": "text/x-python",
   "name": "python",
   "nbconvert_exporter": "python",
   "pygments_lexer": "ipython3",
   "version": "3.9.7"
  },
  "toc": {
   "base_numbering": 1,
   "nav_menu": {},
   "number_sections": true,
   "sideBar": true,
   "skip_h1_title": false,
   "title_cell": "Table of Contents",
   "title_sidebar": "Contents",
   "toc_cell": false,
   "toc_position": {},
   "toc_section_display": true,
   "toc_window_display": false
  },
  "varInspector": {
   "cols": {
    "lenName": 16,
    "lenType": 16,
    "lenVar": 40
   },
   "kernels_config": {
    "python": {
     "delete_cmd_postfix": "",
     "delete_cmd_prefix": "del ",
     "library": "var_list.py",
     "varRefreshCmd": "print(var_dic_list())"
    },
    "r": {
     "delete_cmd_postfix": ") ",
     "delete_cmd_prefix": "rm(",
     "library": "var_list.r",
     "varRefreshCmd": "cat(var_dic_list()) "
    }
   },
   "types_to_exclude": [
    "module",
    "function",
    "builtin_function_or_method",
    "instance",
    "_Feature"
   ],
   "window_display": false
  }
 },
 "nbformat": 4,
 "nbformat_minor": 4
}
